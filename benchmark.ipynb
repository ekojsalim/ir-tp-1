{
 "cells": [
  {
   "cell_type": "code",
   "execution_count": null,
   "metadata": {},
   "outputs": [],
   "source": [
    "from bsbi import BSBIIndex\n",
    "from compression import VBEPostings"
   ]
  },
  {
   "cell_type": "code",
   "execution_count": null,
   "metadata": {},
   "outputs": [],
   "source": [
    "# sebelumnya sudah dilakukan indexing\n",
    "# BSBIIndex hanya sebagai abstraksi untuk index tersebut\n",
    "BSBI_instance = BSBIIndex(data_dir='collection',\n",
    "                          postings_encoding=VBEPostings,\n",
    "                          output_dir='index')\n",
    "\n",
    "queries = [\"olahraga\", \"tumor\", \"hidup sehat\"]\n",
    "for query in queries:\n",
    "    print(\"Query  : \", query)\n",
    "    print(\"Results:\")\n",
    "    for doc in BSBI_instance.retrieve(query):\n",
    "        print(doc)\n",
    "    print()"
   ]
  }
 ],
 "metadata": {
  "kernelspec": {
   "display_name": "Python 3.10.7 ('TP1-mjwKohvt')",
   "language": "python",
   "name": "python3"
  },
  "language_info": {
   "name": "python",
   "version": "3.10.7"
  },
  "orig_nbformat": 4,
  "vscode": {
   "interpreter": {
    "hash": "0e2b0b3180c622e3793e4a2f3a9599316c89e78f15fd8cb0cd2a7ea7bad29b81"
   }
  }
 },
 "nbformat": 4,
 "nbformat_minor": 2
}
