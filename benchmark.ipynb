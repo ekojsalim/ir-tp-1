{
 "cells": [
  {
   "cell_type": "markdown",
   "metadata": {},
   "source": [
    "# Index Compression Comparison\n",
    "\n",
    "Eko Julianto Salim - 1906350925\n",
    "\n",
    "---\n",
    "## Setup"
   ]
  },
  {
   "cell_type": "code",
   "execution_count": 1,
   "metadata": {},
   "outputs": [],
   "source": [
    "from pathlib import Path\n",
    "\n",
    "from bsbi import BSBIIndex\n",
    "from compression import VBEPostings, StandardPostings, BICPostings"
   ]
  },
  {
   "cell_type": "code",
   "execution_count": 2,
   "metadata": {},
   "outputs": [],
   "source": [
    "# Disable tqdm to reduce clutter\n",
    "from tqdm import tqdm\n",
    "from functools import partialmethod\n",
    "\n",
    "tqdm.__init__ = partialmethod(tqdm.__init__, disable=True)"
   ]
  },
  {
   "cell_type": "markdown",
   "metadata": {},
   "source": [
    "## Benchmark\n",
    "### Index Creation Speed"
   ]
  },
  {
   "cell_type": "code",
   "execution_count": 5,
   "metadata": {},
   "outputs": [],
   "source": [
    "def create_index(postings_encoding):\n",
    "\tinstance = BSBIIndex(data_dir=\"collection\", output_dir=\"index\", postings_encoding=postings_encoding)\n",
    "\tinstance.index()"
   ]
  },
  {
   "cell_type": "code",
   "execution_count": 10,
   "metadata": {},
   "outputs": [
    {
     "name": "stdout",
     "output_type": "stream",
     "text": [
      "317.02 ms ± 59.514 ms per loop (mean ± std. dev. of 30 runs, 10 loops each)\n"
     ]
    }
   ],
   "source": [
    "%timeit -r 30 -n 10 -p 5 create_index(StandardPostings)"
   ]
  },
  {
   "cell_type": "code",
   "execution_count": 11,
   "metadata": {},
   "outputs": [
    {
     "name": "stdout",
     "output_type": "stream",
     "text": [
      "310.38 ms ± 772.69 µs per loop (mean ± std. dev. of 30 runs, 10 loops each)\n"
     ]
    }
   ],
   "source": [
    "%timeit -r 30 -n 10 -p 5 create_index(VBEPostings)"
   ]
  },
  {
   "cell_type": "code",
   "execution_count": 12,
   "metadata": {},
   "outputs": [
    {
     "name": "stdout",
     "output_type": "stream",
     "text": [
      "621.69 ms ± 1.4299 ms per loop (mean ± std. dev. of 30 runs, 10 loops each)\n"
     ]
    }
   ],
   "source": [
    "%timeit -r 30 -n 10 -p 5 create_index(BICPostings)"
   ]
  },
  {
   "cell_type": "markdown",
   "metadata": {},
   "source": [
    "### Index Size"
   ]
  },
  {
   "cell_type": "code",
   "execution_count": 13,
   "metadata": {},
   "outputs": [],
   "source": [
    "INDEX_FOLDER_PATH = Path(\"./index\")\n",
    "def get_index_size_statistics():\n",
    "\tindex_path = INDEX_FOLDER_PATH / \"main_index.index\"\n",
    "\tprint(f\"Index size: {index_path.stat().st_size / 1024} KiB\")\n",
    "\tindex_path = INDEX_FOLDER_PATH / \"main_index.dict\"\n",
    "\tprint(f\"Metadata size: {index_path.stat().st_size / 1024} KiB\")\n",
    "\tintermediate_indexes = INDEX_FOLDER_PATH.glob(\"intermediate_*.index\")\n",
    "\tprint(f\"Intermediate index size: {sum([i.stat().st_size for i in intermediate_indexes]) / 1024} KiB\")"
   ]
  },
  {
   "cell_type": "code",
   "execution_count": 14,
   "metadata": {},
   "outputs": [
    {
     "name": "stdout",
     "output_type": "stream",
     "text": [
      "StandardPostings\n",
      "====================\n",
      "Index size: 362.1640625 KiB\n",
      "Metadata size: 75.0439453125 KiB\n",
      "Intermediate index size: 362.1640625 KiB\n"
     ]
    }
   ],
   "source": [
    "create_index(StandardPostings)\n",
    "print(\"StandardPostings\")\n",
    "print(\"=\"*20)\n",
    "get_index_size_statistics()"
   ]
  },
  {
   "cell_type": "code",
   "execution_count": 15,
   "metadata": {},
   "outputs": [
    {
     "name": "stdout",
     "output_type": "stream",
     "text": [
      "VBEPostings\n",
      "====================\n",
      "Index size: 51.2978515625 KiB\n",
      "Metadata size: 66.0390625 KiB\n",
      "Intermediate index size: 60.40625 KiB\n"
     ]
    }
   ],
   "source": [
    "create_index(VBEPostings)\n",
    "print(\"VBEPostings\")\n",
    "print(\"=\"*20)\n",
    "get_index_size_statistics()"
   ]
  },
  {
   "cell_type": "code",
   "execution_count": 16,
   "metadata": {},
   "outputs": [
    {
     "name": "stdout",
     "output_type": "stream",
     "text": [
      "BICPostings\n",
      "====================\n",
      "Index size: 37.5078125 KiB\n",
      "Metadata size: 66.013671875 KiB\n",
      "Intermediate index size: 56.099609375 KiB\n"
     ]
    }
   ],
   "source": [
    "create_index(BICPostings)\n",
    "print(\"BICPostings\")\n",
    "print(\"=\"*20)\n",
    "get_index_size_statistics()"
   ]
  }
 ],
 "metadata": {
  "kernelspec": {
   "display_name": "Python 3.10.7 ('TP1-mjwKohvt')",
   "language": "python",
   "name": "python3"
  },
  "language_info": {
   "codemirror_mode": {
    "name": "ipython",
    "version": 3
   },
   "file_extension": ".py",
   "mimetype": "text/x-python",
   "name": "python",
   "nbconvert_exporter": "python",
   "pygments_lexer": "ipython3",
   "version": "3.10.7"
  },
  "orig_nbformat": 4,
  "vscode": {
   "interpreter": {
    "hash": "0e2b0b3180c622e3793e4a2f3a9599316c89e78f15fd8cb0cd2a7ea7bad29b81"
   }
  }
 },
 "nbformat": 4,
 "nbformat_minor": 2
}
